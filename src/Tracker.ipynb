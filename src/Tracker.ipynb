{
 "cells": [
  {
   "cell_type": "code",
   "execution_count": 1,
   "metadata": {},
   "outputs": [
    {
     "name": "stdout",
     "output_type": "stream",
     "text": [
      "Populating the interactive namespace from numpy and matplotlib\n"
     ]
    }
   ],
   "source": [
    "%pylab inline\n",
    "import cv2\n",
    "import matplotlib.pyplot as plt\n",
    "import numpy as np\n",
    "import time\n",
    "from IPython.display import clear_output"
   ]
  },
  {
   "cell_type": "code",
   "execution_count": 120,
   "metadata": {},
   "outputs": [],
   "source": [
    "video = cv2.VideoCapture('../videos/Untitled.mp4')\n",
    "\n",
    "if not video.isOpened():\n",
    "    print(\"Could not open video\")"
   ]
  },
  {
   "cell_type": "code",
   "execution_count": 121,
   "metadata": {},
   "outputs": [],
   "source": [
    "ok, frame = video.read()\n",
    "if not ok:\n",
    "    print('Cannot read video file')"
   ]
  },
  {
   "cell_type": "code",
   "execution_count": 122,
   "metadata": {},
   "outputs": [
    {
     "name": "stdout",
     "output_type": "stream",
     "text": [
      "184.5\n",
      "700.5\n",
      "3191.5\n",
      "316.0 394.0\n",
      "Released Video Resource\n"
     ]
    },
    {
     "data": {
      "text/plain": [
       "<matplotlib.figure.Figure at 0x7f481b272b70>"
      ]
     },
     "metadata": {},
     "output_type": "display_data"
    }
   ],
   "source": [
    "start = time.time()\n",
    "\n",
    "firstFrame = None\n",
    "\n",
    "try:\n",
    "    #for i in range(10):\n",
    "    i = 0\n",
    "    x_points, y_points = [], []\n",
    "    while True:\n",
    "        # Read a new frame\n",
    "        ok, frame = video.read()\n",
    "        \n",
    "        if not ok:\n",
    "            print('not ok')\n",
    "            break\n",
    "    \n",
    "        \n",
    "        gray = cv2.cvtColor(frame, cv2.COLOR_BGR2GRAY)\n",
    "        gray = cv2.GaussianBlur(gray, (21, 21), 0)\n",
    "        # if the first frame is None, initialize it\n",
    "        if firstFrame is None:\n",
    "            firstFrame = gray\n",
    "            continue\n",
    "        \n",
    "        # compute the absolute difference between the current frame and\n",
    "        # first frame\n",
    "        frameDelta = cv2.absdiff(firstFrame, gray)\n",
    "        thresh = cv2.threshold(frameDelta, 25, 255, cv2.THRESH_BINARY)[1]\n",
    "\n",
    "        # dilate the thresholded image to fill in holes, then find contours\n",
    "        # on thresholded image\n",
    "        thresh = cv2.dilate(thresh, None, iterations=2)\n",
    "        _, cnts, _ = cv2.findContours(thresh.copy(), cv2.RETR_EXTERNAL, cv2.CHAIN_APPROX_SIMPLE)\n",
    "    \n",
    "        '''\n",
    "        # loop over the contours\n",
    "        for c in cnts:\n",
    "            # if the contour is too small, ignore it\n",
    "            print(cv2.contourArea(c))\n",
    "            if cv2.contourArea(c) < 5:\n",
    "                continue\n",
    "        '''\n",
    "        \n",
    "        #print(i, len(cnts))\n",
    "        \n",
    "        for c in cnts:\n",
    "            print(cv2.contourArea(c))\n",
    "            # compute the bounding box for the contour, draw it on the frame,\n",
    "            # and update the text\n",
    "            if 1000 < cv2.contourArea(c) < 5000:\n",
    "                #print(cv2.contourArea(c))\n",
    "                #print(w/h)\n",
    "                (x, y, w, h) = cv2.boundingRect(c)\n",
    "                if 1.2 < w/h < 3:\n",
    "                    #cv2.rectangle(frame, (x, y), (x + w, y + h), (0, 255, 0), 5)\n",
    "                    print(x+w/2,y+h/2)\n",
    "                    x_points.append(x+w//2)\n",
    "                    y_points.append(frame.shape[0] - y+h//2)\n",
    "                    cv2.circle(frame, (x+w//2, y+h//2), 5, (0, 255, 0))\n",
    "         \n",
    "        # Turn off the axis\n",
    "        axis('on')\n",
    "        # Title of the window\n",
    "        title(\"Input Stream\")\n",
    "        # Display the frame\n",
    "        #thresh = np.uint8(thresh) * 255\n",
    "        imshow(frame)\n",
    "        show()\n",
    "        # Display the frame until new frame is available\n",
    "        i += 1\n",
    "        \n",
    "        \n",
    "        if i > 0 and i % 10 == 0 and all([cv2.contourArea(c) < 100 for c in cnts]):\n",
    "            firstFrame = gray\n",
    "            \n",
    "        '''\n",
    "        print(len(keyPoints))\n",
    "        for k in keyPoints:\n",
    "            print(k.size)\n",
    "        '''\n",
    "        \n",
    "        clear_output(wait=True)\n",
    "\n",
    "        \n",
    "except KeyboardInterrupt:\n",
    "    # Release the Video Device\n",
    "    video.release()\n",
    "    # Message to be displayed after releasing the device\n",
    "    print(\"Released Video Resource\")\n",
    "\n"
   ]
  },
  {
   "cell_type": "code",
   "execution_count": 124,
   "metadata": {},
   "outputs": [
    {
     "data": {
      "text/plain": [
       "[736,\n",
       " 716,\n",
       " 736,\n",
       " 716,\n",
       " 736,\n",
       " 703,\n",
       " 736,\n",
       " 689,\n",
       " 736,\n",
       " 677,\n",
       " 736,\n",
       " 666,\n",
       " 736,\n",
       " 658,\n",
       " 736,\n",
       " 652,\n",
       " 736,\n",
       " 643,\n",
       " 735,\n",
       " 647,\n",
       " 736,\n",
       " 736,\n",
       " 736,\n",
       " 630,\n",
       " 736,\n",
       " 736,\n",
       " 736,\n",
       " 736,\n",
       " 736]"
      ]
     },
     "execution_count": 124,
     "metadata": {},
     "output_type": "execute_result"
    }
   ],
   "source": [
    "y_points"
   ]
  },
  {
   "cell_type": "code",
   "execution_count": 79,
   "metadata": {},
   "outputs": [
    {
     "data": {
      "text/plain": [
       "1080"
      ]
     },
     "execution_count": 79,
     "metadata": {},
     "output_type": "execute_result"
    }
   ],
   "source": [
    "frame.shape[0]"
   ]
  },
  {
   "cell_type": "code",
   "execution_count": 123,
   "metadata": {},
   "outputs": [
    {
     "data": {
      "image/png": "[encoded data removed]",
      "text/plain": [
       "<matplotlib.figure.Figure at 0x7f481b349518>"
      ]
     },
     "metadata": {},
     "output_type": "display_data"
    }
   ],
   "source": [
    "plt.plot(x_points, y_points, 'ro')\n",
    "plt.axis([0, frame.shape[1], 0, frame.shape[0]])\n",
    "plt.show()"
   ]
  },
  {
   "cell_type": "code",
   "execution_count": null,
   "metadata": {},
   "outputs": [],
   "source": [
    "'''\n",
    "params = cv2.SimpleBlobDetector_Params()\n",
    "# Disable unwanted filter criteria params\n",
    "params.filterByInertia = False\n",
    "params.filterByConvexity = False\n",
    "params.filterByArea = True\n",
    "\n",
    "params.minArea = 5\n",
    "params.maxArea = 30\n",
    "\n",
    "# Change thresholds\n",
    "params.minThreshold = 10   # the graylevel of images\n",
    "params.maxThreshold = 200\n",
    "\n",
    "params.filterByColor = True\n",
    "params.blobColor = 255\n",
    "\n",
    "detector = cv2.SimpleBlobDetector_create(params)\n",
    "'''"
   ]
  },
  {
   "cell_type": "code",
   "execution_count": null,
   "metadata": {
    "scrolled": true
   },
   "outputs": [],
   "source": [
    "start = time.time()\n",
    "\n",
    "try:\n",
    "    #for i in range(10):\n",
    "    while True:\n",
    "        # Read a new frame\n",
    "        ok, frame2 = video.read()\n",
    "        \n",
    "        if not ok:\n",
    "            print('not ok')\n",
    "            break\n",
    "    \n",
    "        \n",
    "        diff = cv2.absdiff(frame2, frame)\n",
    "        diff_gray = cv2.cvtColor(diff, cv2.COLOR_BGR2GRAY)\n",
    "        diff_mask = diff[:,:,1] > 10\n",
    "    \n",
    "        '''\n",
    "        im_diff = np.uint8(diff_mask) * 255\n",
    "        keyPoints = detector.detect(im_diff)\n",
    "        im_with_keyPoints = cv2.drawKeypoints(im_diff, keyPoints, np.array([]), (0, 255, 0), cv2.DRAW_MATCHES_FLAGS_DRAW_RICH_KEYPOINTS)\n",
    "        ''' \n",
    "         \n",
    "        # Turn off the axis\n",
    "        axis('on')\n",
    "        # Title of the window\n",
    "        title(\"Input Stream\")\n",
    "        # Display the frame\n",
    "        imshow(diff_gray)\n",
    "        show()\n",
    "        # Display the frame until new frame is available\n",
    "        \n",
    "        '''\n",
    "        print(len(keyPoints))\n",
    "        for k in keyPoints:\n",
    "            print(k.size)\n",
    "        '''\n",
    "        \n",
    "        clear_output(wait=True)\n",
    "\n",
    "        frame = frame2\n",
    "        \n",
    "except KeyboardInterrupt:\n",
    "    # Release the Video Device\n",
    "    video.release()\n",
    "    # Message to be displayed after releasing the device\n",
    "    print(\"Released Video Resource\")\n",
    "\n"
   ]
  },
  {
   "cell_type": "code",
   "execution_count": null,
   "metadata": {},
   "outputs": [],
   "source": [
    "diff.shape"
   ]
  },
  {
   "cell_type": "code",
   "execution_count": null,
   "metadata": {},
   "outputs": [],
   "source": []
  },
  {
   "cell_type": "code",
   "execution_count": null,
   "metadata": {},
   "outputs": [],
   "source": []
  }
 ],
 "metadata": {
  "kernelspec": {
   "display_name": "Python 3",
   "language": "python",
   "name": "python3"
  },
  "language_info": {
   "codemirror_mode": {
    "name": "ipython",
    "version": 3
   },
   "file_extension": ".py",
   "mimetype": "text/x-python",
   "name": "python",
   "nbconvert_exporter": "python",
   "pygments_lexer": "ipython3",
   "version": "3.5.2"
  }
 },
 "nbformat": 4,
 "nbformat_minor": 2
}
